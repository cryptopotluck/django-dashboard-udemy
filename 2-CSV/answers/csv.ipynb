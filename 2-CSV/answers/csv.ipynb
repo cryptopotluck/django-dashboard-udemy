{
  "cells": [
    {
      "cell_type": "markdown",
      "source": "\u003ch2\u003eWorking in Data: CSV\n",
      "metadata": {
        "pycharm": {
          "metadata": false
        }
      }
    },
    {
      "cell_type": "markdown",
      "source": "Creating a loop, for every line within csv_reader print line:",
      "metadata": {
        "pycharm": {
          "metadata": false
        }
      }
    },
    {
      "cell_type": "code",
      "execution_count": 2,
      "outputs": [
        {
          "name": "stdout",
          "text": [
            "[\u0027Start Date \u0027, \u0027Start Time\u0027, \u0027End Date\u0027, \u0027End Time\u0027, \u0027Event Title \u0027, \u0027Event Description\u0027, \u0027All Day Event\u0027, \u0027No End Time\u0027, \u0027Contact \u0027, \u0027Contact Email\u0027, \u0027Contact Phone\u0027, \u0027Location\u0027, \u0027Category\u0027, \u0027Registration\u0027, \u0027Maximum Seats\u0027, \u0027Last Date To Register\u0027]\n[\u002710/5/13\u0027, \u00277:00 AM\u0027, \u002710/5/13\u0027, \u00278:00 AM\u0027, \u0027Parent Teacher Conference\u0027, \u0027Register for a one hour parent teacher conference. \u0027, \u0027N\u0027, \u0027N\u0027, \u0027Chris Gallagher\u0027, \u0027cgallagher@schoolwires.com\u0027, \u0027814-555-5179\u0027, \u0027Room 203\u0027, \u00272\u0027, \u0027Y\u0027, \u00271\u0027, \u002710/4/13\u0027]\n[\u002710/5/13\u0027, \u00278:00 AM\u0027, \u002710/5/13\u0027, \u00279:00 AM\u0027, \u0027Parent Teacher Conference\u0027, \u0027Register for a one hour parent teacher conference. \u0027, \u0027N\u0027, \u0027N\u0027, \u0027Chris Gallagher\u0027, \u0027cgallagher@schoolwires.com\u0027, \u0027814-555-5179\u0027, \u0027Room 203\u0027, \u00272\u0027, \u0027Y\u0027, \u00271\u0027, \u002710/4/13\u0027]\n[\u002710/5/13\u0027, \u00279:00 AM\u0027, \u002710/5/13\u0027, \u002710:00 AM\u0027, \u0027Parent Teacher Conference\u0027, \u0027Register for a one hour parent teacher conference. \u0027, \u0027N\u0027, \u0027N\u0027, \u0027Chris Gallagher\u0027, \u0027cgallagher@schoolwires.com\u0027, \u0027814-555-5179\u0027, \u0027Room 203\u0027, \u00272\u0027, \u0027Y\u0027, \u00271\u0027, \u002710/4/13\u0027]\n[\u002710/5/13\u0027, \u002710:00 AM\u0027, \u002710/5/13\u0027, \u002711:00 AM\u0027, \u0027Parent Teacher Conference\u0027, \u0027Register for a one hour parent teacher conference. \u0027, \u0027N\u0027, \u0027N\u0027, \u0027Chris Gallagher\u0027, \u0027cgallagher@schoolwires.com\u0027, \u0027814-555-5179\u0027, \u0027Room 203\u0027, \u00272\u0027, \u0027Y\u0027, \u00271\u0027, \u002710/4/13\u0027]\n[\u002710/5/13\u0027, \u002711:00 AM\u0027, \u002710/5/13\u0027, \u002712:00 PM\u0027, \u0027Parent Teacher Conference\u0027, \u0027Register for a one hour parent teacher conference. \u0027, \u0027N\u0027, \u0027N\u0027, \u0027Chris Gallagher\u0027, \u0027cgallagher@schoolwires.com\u0027, \u0027814-555-5179\u0027, \u0027Room 203\u0027, \u00272\u0027, \u0027Y\u0027, \u00271\u0027, \u002710/4/13\u0027]\n[\u002710/5/13\u0027, \u002712:00 PM\u0027, \u002710/5/13\u0027, \u00271:00 PM\u0027, \u0027Parent Teacher Conference\u0027, \u0027Register for a one hour parent teacher conference. \u0027, \u0027N\u0027, \u0027N\u0027, \u0027Chris Gallagher\u0027, \u0027cgallagher@schoolwires.com\u0027, \u0027814-555-5179\u0027, \u0027Room 203\u0027, \u00272\u0027, \u0027Y\u0027, \u00271\u0027, \u002710/4/13\u0027]\n[\u002710/5/13\u0027, \u00271:00 PM\u0027, \u002710/5/13\u0027, \u00272:00 PM\u0027, \u0027Parent Teacher Conference\u0027, \u0027Register for a one hour parent teacher conference. \u0027, \u0027N\u0027, \u0027N\u0027, \u0027Chris Gallagher\u0027, \u0027cgallagher@schoolwires.com\u0027, \u0027814-555-5179\u0027, \u0027Room 203\u0027, \u00272\u0027, \u0027Y\u0027, \u00271\u0027, \u002710/4/13\u0027]\n[\u002710/5/13\u0027, \u00272:00 PM\u0027, \u002710/5/13\u0027, \u00273:00 PM\u0027, \u0027Parent Teacher Conference\u0027, \u0027Register for a one hour parent teacher conference. \u0027, \u0027N\u0027, \u0027N\u0027, \u0027Chris Gallagher\u0027, \u0027cgallagher@schoolwires.com\u0027, \u0027814-555-5179\u0027, \u0027Room 203\u0027, \u00272\u0027, \u0027Y\u0027, \u00271\u0027, \u002710/4/13\u0027]\n[\u002710/5/13\u0027, \u00273:00 PM\u0027, \u002710/5/13\u0027, \u00274:00 PM\u0027, \u0027Parent Teacher Conference\u0027, \u0027Register for a one hour parent teacher conference. \u0027, \u0027N\u0027, \u0027N\u0027, \u0027Chris Gallagher\u0027, \u0027cgallagher@schoolwires.com\u0027, \u0027814-555-5179\u0027, \u0027Room 203\u0027, \u00272\u0027, \u0027Y\u0027, \u00271\u0027, \u002710/4/13\u0027]\n[\u002710/5/13\u0027, \u00274:00 PM\u0027, \u002710/5/13\u0027, \u00275:00 PM\u0027, \u0027Parent Teacher Conference\u0027, \u0027Register for a one hour parent teacher conference. \u0027, \u0027N\u0027, \u0027N\u0027, \u0027Chris Gallagher\u0027, \u0027cgallagher@schoolwires.com\u0027, \u0027814-555-5179\u0027, \u0027Room 203\u0027, \u00272\u0027, \u0027Y\u0027, \u00271\u0027, \u002710/4/13\u0027]\n[\u002710/5/13\u0027, \u00275:00 PM\u0027, \u002710/5/13\u0027, \u00276:00 PM\u0027, \u0027Parent Teacher Conference\u0027, \u0027Register for a one hour parent teacher conference. \u0027, \u0027N\u0027, \u0027N\u0027, \u0027Chris Gallagher\u0027, \u0027cgallagher@schoolwires.com\u0027, \u0027814-555-5179\u0027, \u0027Room 203\u0027, \u00272\u0027, \u0027Y\u0027, \u00271\u0027, \u002710/4/13\u0027]\n[\u002710/5/13\u0027, \u00276:00 PM\u0027, \u002710/5/13\u0027, \u00277:00 PM\u0027, \u0027Parent Teacher Conference\u0027, \u0027Register for a one hour parent teacher conference. \u0027, \u0027N\u0027, \u0027N\u0027, \u0027Chris Gallagher\u0027, \u0027cgallagher@schoolwires.com\u0027, \u0027814-555-5179\u0027, \u0027Room 203\u0027, \u00272\u0027, \u0027Y\u0027, \u00271\u0027, \u002710/4/13\u0027]\n"
          ],
          "output_type": "stream"
        }
      ],
      "source": "import csv\n\nwith open(\u0027../_files/ParentTeacher.csv\u0027) as csv_file:\n    csv_reader \u003d csv.reader(csv_file)\n\n    #Creating a loop, for every line within csv_reader print line\n    for line in csv_reader:\n        print(line)\n        ",
      "metadata": {
        "pycharm": {
          "metadata": false,
          "name": "#%%\n",
          "is_executing": false
        }
      }
    },
    {
      "cell_type": "markdown",
      "source": "Moving the csv into a list:\n",
      "metadata": {
        "pycharm": {
          "metadata": false
        }
      }
    },
    {
      "cell_type": "code",
      "execution_count": 3,
      "outputs": [
        {
          "name": "stdout",
          "text": [
            "[[\u0027Start Date \u0027, \u0027Start Time\u0027, \u0027End Date\u0027, \u0027End Time\u0027, \u0027Event Title \u0027, \u0027Event Description\u0027, \u0027All Day Event\u0027, \u0027No End Time\u0027, \u0027Contact \u0027, \u0027Contact Email\u0027, \u0027Contact Phone\u0027, \u0027Location\u0027, \u0027Category\u0027, \u0027Registration\u0027, \u0027Maximum Seats\u0027, \u0027Last Date To Register\u0027], [\u002710/5/13\u0027, \u00277:00 AM\u0027, \u002710/5/13\u0027, \u00278:00 AM\u0027, \u0027Parent Teacher Conference\u0027, \u0027Register for a one hour parent teacher conference. \u0027, \u0027N\u0027, \u0027N\u0027, \u0027Chris Gallagher\u0027, \u0027cgallagher@schoolwires.com\u0027, \u0027814-555-5179\u0027, \u0027Room 203\u0027, \u00272\u0027, \u0027Y\u0027, \u00271\u0027, \u002710/4/13\u0027], [\u002710/5/13\u0027, \u00278:00 AM\u0027, \u002710/5/13\u0027, \u00279:00 AM\u0027, \u0027Parent Teacher Conference\u0027, \u0027Register for a one hour parent teacher conference. \u0027, \u0027N\u0027, \u0027N\u0027, \u0027Chris Gallagher\u0027, \u0027cgallagher@schoolwires.com\u0027, \u0027814-555-5179\u0027, \u0027Room 203\u0027, \u00272\u0027, \u0027Y\u0027, \u00271\u0027, \u002710/4/13\u0027], [\u002710/5/13\u0027, \u00279:00 AM\u0027, \u002710/5/13\u0027, \u002710:00 AM\u0027, \u0027Parent Teacher Conference\u0027, \u0027Register for a one hour parent teacher conference. \u0027, \u0027N\u0027, \u0027N\u0027, \u0027Chris Gallagher\u0027, \u0027cgallagher@schoolwires.com\u0027, \u0027814-555-5179\u0027, \u0027Room 203\u0027, \u00272\u0027, \u0027Y\u0027, \u00271\u0027, \u002710/4/13\u0027], [\u002710/5/13\u0027, \u002710:00 AM\u0027, \u002710/5/13\u0027, \u002711:00 AM\u0027, \u0027Parent Teacher Conference\u0027, \u0027Register for a one hour parent teacher conference. \u0027, \u0027N\u0027, \u0027N\u0027, \u0027Chris Gallagher\u0027, \u0027cgallagher@schoolwires.com\u0027, \u0027814-555-5179\u0027, \u0027Room 203\u0027, \u00272\u0027, \u0027Y\u0027, \u00271\u0027, \u002710/4/13\u0027], [\u002710/5/13\u0027, \u002711:00 AM\u0027, \u002710/5/13\u0027, \u002712:00 PM\u0027, \u0027Parent Teacher Conference\u0027, \u0027Register for a one hour parent teacher conference. \u0027, \u0027N\u0027, \u0027N\u0027, \u0027Chris Gallagher\u0027, \u0027cgallagher@schoolwires.com\u0027, \u0027814-555-5179\u0027, \u0027Room 203\u0027, \u00272\u0027, \u0027Y\u0027, \u00271\u0027, \u002710/4/13\u0027], [\u002710/5/13\u0027, \u002712:00 PM\u0027, \u002710/5/13\u0027, \u00271:00 PM\u0027, \u0027Parent Teacher Conference\u0027, \u0027Register for a one hour parent teacher conference. \u0027, \u0027N\u0027, \u0027N\u0027, \u0027Chris Gallagher\u0027, \u0027cgallagher@schoolwires.com\u0027, \u0027814-555-5179\u0027, \u0027Room 203\u0027, \u00272\u0027, \u0027Y\u0027, \u00271\u0027, \u002710/4/13\u0027], [\u002710/5/13\u0027, \u00271:00 PM\u0027, \u002710/5/13\u0027, \u00272:00 PM\u0027, \u0027Parent Teacher Conference\u0027, \u0027Register for a one hour parent teacher conference. \u0027, \u0027N\u0027, \u0027N\u0027, \u0027Chris Gallagher\u0027, \u0027cgallagher@schoolwires.com\u0027, \u0027814-555-5179\u0027, \u0027Room 203\u0027, \u00272\u0027, \u0027Y\u0027, \u00271\u0027, \u002710/4/13\u0027], [\u002710/5/13\u0027, \u00272:00 PM\u0027, \u002710/5/13\u0027, \u00273:00 PM\u0027, \u0027Parent Teacher Conference\u0027, \u0027Register for a one hour parent teacher conference. \u0027, \u0027N\u0027, \u0027N\u0027, \u0027Chris Gallagher\u0027, \u0027cgallagher@schoolwires.com\u0027, \u0027814-555-5179\u0027, \u0027Room 203\u0027, \u00272\u0027, \u0027Y\u0027, \u00271\u0027, \u002710/4/13\u0027], [\u002710/5/13\u0027, \u00273:00 PM\u0027, \u002710/5/13\u0027, \u00274:00 PM\u0027, \u0027Parent Teacher Conference\u0027, \u0027Register for a one hour parent teacher conference. \u0027, \u0027N\u0027, \u0027N\u0027, \u0027Chris Gallagher\u0027, \u0027cgallagher@schoolwires.com\u0027, \u0027814-555-5179\u0027, \u0027Room 203\u0027, \u00272\u0027, \u0027Y\u0027, \u00271\u0027, \u002710/4/13\u0027], [\u002710/5/13\u0027, \u00274:00 PM\u0027, \u002710/5/13\u0027, \u00275:00 PM\u0027, \u0027Parent Teacher Conference\u0027, \u0027Register for a one hour parent teacher conference. \u0027, \u0027N\u0027, \u0027N\u0027, \u0027Chris Gallagher\u0027, \u0027cgallagher@schoolwires.com\u0027, \u0027814-555-5179\u0027, \u0027Room 203\u0027, \u00272\u0027, \u0027Y\u0027, \u00271\u0027, \u002710/4/13\u0027], [\u002710/5/13\u0027, \u00275:00 PM\u0027, \u002710/5/13\u0027, \u00276:00 PM\u0027, \u0027Parent Teacher Conference\u0027, \u0027Register for a one hour parent teacher conference. \u0027, \u0027N\u0027, \u0027N\u0027, \u0027Chris Gallagher\u0027, \u0027cgallagher@schoolwires.com\u0027, \u0027814-555-5179\u0027, \u0027Room 203\u0027, \u00272\u0027, \u0027Y\u0027, \u00271\u0027, \u002710/4/13\u0027], [\u002710/5/13\u0027, \u00276:00 PM\u0027, \u002710/5/13\u0027, \u00277:00 PM\u0027, \u0027Parent Teacher Conference\u0027, \u0027Register for a one hour parent teacher conference. \u0027, \u0027N\u0027, \u0027N\u0027, \u0027Chris Gallagher\u0027, \u0027cgallagher@schoolwires.com\u0027, \u0027814-555-5179\u0027, \u0027Room 203\u0027, \u00272\u0027, \u0027Y\u0027, \u00271\u0027, \u002710/4/13\u0027]]\n"
          ],
          "output_type": "stream"
        }
      ],
      "source": "with open(\u0027../_files/ParentTeacher.csv\u0027) as csv_file:\n    csv_reader2 \u003d csv.reader(csv_file)\n    \n#create a blank list\n    blank_list \u003d []\n\n    #Creating a loop, for every line within csv_reader\n    for line in csv_reader2:\n        #append each line to the blank_list\n        blank_list.append(line)\n\n    #print the new list (Issue nested list)\n    print(blank_list)\n    ",
      "metadata": {
        "pycharm": {
          "metadata": false,
          "name": "#%%\n",
          "is_executing": false
        }
      }
    },
    {
      "cell_type": "markdown",
      "source": "Remove Nested list:",
      "metadata": {
        "pycharm": {
          "metadata": false
        }
      }
    },
    {
      "cell_type": "code",
      "execution_count": 4,
      "outputs": [
        {
          "name": "stdout",
          "text": [
            "[\u0027Start Date \u0027, \u0027Start Time\u0027, \u0027End Date\u0027, \u0027End Time\u0027, \u0027Event Title \u0027, \u0027Event Description\u0027, \u0027All Day Event\u0027, \u0027No End Time\u0027, \u0027Contact \u0027, \u0027Contact Email\u0027, \u0027Contact Phone\u0027, \u0027Location\u0027, \u0027Category\u0027, \u0027Registration\u0027, \u0027Maximum Seats\u0027, \u0027Last Date To Register\u0027]\n"
          ],
          "output_type": "stream"
        }
      ],
      "source": "print(blank_list[0])\n",
      "metadata": {
        "pycharm": {
          "metadata": false,
          "name": "#%%\n",
          "is_executing": false
        }
      }
    },
    {
      "cell_type": "markdown",
      "source": "Learn how to call individual data within the list:",
      "metadata": {
        "pycharm": {
          "metadata": false
        }
      }
    },
    {
      "cell_type": "code",
      "execution_count": 5,
      "outputs": [
        {
          "name": "stdout",
          "text": [
            "End Time\n"
          ],
          "output_type": "stream"
        }
      ],
      "source": "print(blank_list[0][3])\n",
      "metadata": {
        "pycharm": {
          "metadata": false,
          "name": "#%%\n",
          "is_executing": false
        }
      }
    },
    {
      "cell_type": "markdown",
      "source": "Learn how to call a range of data within the list:",
      "metadata": {
        "pycharm": {
          "metadata": false
        }
      }
    },
    {
      "cell_type": "code",
      "execution_count": 6,
      "outputs": [
        {
          "name": "stdout",
          "text": [
            "[\u0027Start Date \u0027, \u0027Start Time\u0027, \u0027End Date\u0027, \u0027End Time\u0027, \u0027Event Title \u0027, \u0027Event Description\u0027, \u0027All Day Event\u0027, \u0027No End Time\u0027, \u0027Contact \u0027, \u0027Contact Email\u0027, \u0027Contact Phone\u0027, \u0027Location\u0027, \u0027Category\u0027, \u0027Registration\u0027, \u0027Maximum Seats\u0027]\n"
          ],
          "output_type": "stream"
        }
      ],
      "source": "print(blank_list[0][0:15])\n\n",
      "metadata": {
        "pycharm": {
          "metadata": false,
          "name": "#%%\n",
          "is_executing": false
        }
      }
    }
  ],
  "metadata": {
    "language_info": {
      "codemirror_mode": {
        "name": "ipython",
        "version": 2
      },
      "file_extension": ".py",
      "mimetype": "text/x-python",
      "name": "python",
      "nbconvert_exporter": "python",
      "pygments_lexer": "ipython2",
      "version": "2.7.6"
    },
    "kernelspec": {
      "name": "python3",
      "language": "python",
      "display_name": "Python 3"
    },
    "stem_cell": {
      "cell_type": "raw",
      "source": "",
      "metadata": {
        "pycharm": {
          "metadata": false
        }
      }
    }
  },
  "nbformat": 4,
  "nbformat_minor": 0
}