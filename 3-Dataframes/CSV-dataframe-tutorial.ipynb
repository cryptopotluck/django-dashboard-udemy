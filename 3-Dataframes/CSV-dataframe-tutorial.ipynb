{
  "cells": [
    {
      "cell_type": "code",
      "execution_count": 3,
      "outputs": [
        {
          "name": "stdout",
          "text": [
            "   Start Date  Start Time End Date  End Time               Event Title   \\\n0      10/5/13    7:00 AM  10/5/13   8:00 AM  Parent Teacher Conference   \n1      10/5/13    8:00 AM  10/5/13   9:00 AM  Parent Teacher Conference   \n2      10/5/13    9:00 AM  10/5/13  10:00 AM  Parent Teacher Conference   \n3      10/5/13   10:00 AM  10/5/13  11:00 AM  Parent Teacher Conference   \n4      10/5/13   11:00 AM  10/5/13  12:00 PM  Parent Teacher Conference   \n5      10/5/13   12:00 PM  10/5/13   1:00 PM  Parent Teacher Conference   \n6      10/5/13    1:00 PM  10/5/13   2:00 PM  Parent Teacher Conference   \n7      10/5/13    2:00 PM  10/5/13   3:00 PM  Parent Teacher Conference   \n8      10/5/13    3:00 PM  10/5/13   4:00 PM  Parent Teacher Conference   \n9      10/5/13    4:00 PM  10/5/13   5:00 PM  Parent Teacher Conference   \n10     10/5/13    5:00 PM  10/5/13   6:00 PM  Parent Teacher Conference   \n11     10/5/13    6:00 PM  10/5/13   7:00 PM  Parent Teacher Conference   \n\n                                    Event Description All Day Event  \\\n0   Register for a one hour parent teacher confere...             N   \n1   Register for a one hour parent teacher confere...             N   \n2   Register for a one hour parent teacher confere...             N   \n3   Register for a one hour parent teacher confere...             N   \n4   Register for a one hour parent teacher confere...             N   \n5   Register for a one hour parent teacher confere...             N   \n6   Register for a one hour parent teacher confere...             N   \n7   Register for a one hour parent teacher confere...             N   \n8   Register for a one hour parent teacher confere...             N   \n9   Register for a one hour parent teacher confere...             N   \n10  Register for a one hour parent teacher confere...             N   \n11  Register for a one hour parent teacher confere...             N   \n\n   No End Time         Contact                Contact Email Contact Phone  \\\n0            N  Chris Gallagher  cgallagher@schoolwires.com  814-555-5179   \n1            N  Chris Gallagher  cgallagher@schoolwires.com  814-555-5179   \n2            N  Chris Gallagher  cgallagher@schoolwires.com  814-555-5179   \n3            N  Chris Gallagher  cgallagher@schoolwires.com  814-555-5179   \n4            N  Chris Gallagher  cgallagher@schoolwires.com  814-555-5179   \n5            N  Chris Gallagher  cgallagher@schoolwires.com  814-555-5179   \n6            N  Chris Gallagher  cgallagher@schoolwires.com  814-555-5179   \n7            N  Chris Gallagher  cgallagher@schoolwires.com  814-555-5179   \n8            N  Chris Gallagher  cgallagher@schoolwires.com  814-555-5179   \n9            N  Chris Gallagher  cgallagher@schoolwires.com  814-555-5179   \n10           N  Chris Gallagher  cgallagher@schoolwires.com  814-555-5179   \n11           N  Chris Gallagher  cgallagher@schoolwires.com  814-555-5179   \n\n    Location  Category Registration  Maximum Seats Last Date To Register  \n0   Room 203         2            Y              1               10/4/13  \n1   Room 203         2            Y              1               10/4/13  \n2   Room 203         2            Y              1               10/4/13  \n3   Room 203         2            Y              1               10/4/13  \n4   Room 203         2            Y              1               10/4/13  \n5   Room 203         2            Y              1               10/4/13  \n6   Room 203         2            Y              1               10/4/13  \n7   Room 203         2            Y              1               10/4/13  \n8   Room 203         2            Y              1               10/4/13  \n9   Room 203         2            Y              1               10/4/13  \n10  Room 203         2            Y              1               10/4/13  \n11  Room 203         2            Y              1               10/4/13  \n"
          ],
          "output_type": "stream"
        }
      ],
      "source": "import pandas as pd\n\n#df \u003d pd.read_csv( \u0027 path/ Name of CSV File \u0027, header\u003d index 0, index \u003d reffrence column)\ndf \u003d pd.read_csv(\u0027_files/ParentTeacher.csv\u0027)\n\nprint(df)",
      "metadata": {
        "pycharm": {
          "metadata": false,
          "name": "#%%\n",
          "is_executing": false
        }
      }
    }
  ],
  "metadata": {
    "language_info": {
      "codemirror_mode": {
        "name": "ipython",
        "version": 2
      },
      "file_extension": ".py",
      "mimetype": "text/x-python",
      "name": "python",
      "nbconvert_exporter": "python",
      "pygments_lexer": "ipython2",
      "version": "2.7.6"
    },
    "kernelspec": {
      "name": "python3",
      "language": "python",
      "display_name": "Python 3"
    },
    "stem_cell": {
      "cell_type": "raw",
      "source": "",
      "metadata": {
        "pycharm": {
          "metadata": false
        }
      }
    }
  },
  "nbformat": 4,
  "nbformat_minor": 0
}